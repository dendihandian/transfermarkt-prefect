{
 "cells": [
  {
   "cell_type": "code",
   "execution_count": 8,
   "id": "bc76e1bf-0c39-46c2-ac46-e34a59d27dc0",
   "metadata": {
    "tags": []
   },
   "outputs": [],
   "source": [
    "import pandas as pd"
   ]
  },
  {
   "cell_type": "code",
   "execution_count": 9,
   "id": "b2651440-8443-465b-bd0d-64f4b193d33b",
   "metadata": {
    "tags": []
   },
   "outputs": [],
   "source": [
    "df = pd.read_parquet('../data/transfers_by_day/', engine='pyarrow')"
   ]
  },
  {
   "cell_type": "code",
   "execution_count": 10,
   "id": "527324cc-9b6f-4ca7-b482-9097cde86b3a",
   "metadata": {
    "tags": []
   },
   "outputs": [
    {
     "data": {
      "text/html": [
       "<div>\n",
       "<style scoped>\n",
       "    .dataframe tbody tr th:only-of-type {\n",
       "        vertical-align: middle;\n",
       "    }\n",
       "\n",
       "    .dataframe tbody tr th {\n",
       "        vertical-align: top;\n",
       "    }\n",
       "\n",
       "    .dataframe thead th {\n",
       "        text-align: right;\n",
       "    }\n",
       "</style>\n",
       "<table border=\"1\" class=\"dataframe\">\n",
       "  <thead>\n",
       "    <tr style=\"text-align: right;\">\n",
       "      <th></th>\n",
       "      <th>portrait_url</th>\n",
       "      <th>name</th>\n",
       "      <th>player_id</th>\n",
       "      <th>position</th>\n",
       "      <th>age</th>\n",
       "      <th>nationalities</th>\n",
       "      <th>left_club_url</th>\n",
       "      <th>left_club_name</th>\n",
       "      <th>left_club_name_alt</th>\n",
       "      <th>left_club_league_country_url</th>\n",
       "      <th>...</th>\n",
       "      <th>join_club_league_name_alt</th>\n",
       "      <th>market_value</th>\n",
       "      <th>fee</th>\n",
       "      <th>loan_fee</th>\n",
       "      <th>transfer_url</th>\n",
       "      <th>transfer_date</th>\n",
       "      <th>ingested_at</th>\n",
       "      <th>y</th>\n",
       "      <th>m</th>\n",
       "      <th>d</th>\n",
       "    </tr>\n",
       "  </thead>\n",
       "  <tbody>\n",
       "    <tr>\n",
       "      <th>0</th>\n",
       "      <td>https://img.a.transfermarkt.technology/portrai...</td>\n",
       "      <td>Wes Hart</td>\n",
       "      <td>16717</td>\n",
       "      <td>Right-Back</td>\n",
       "      <td>22</td>\n",
       "      <td>[{'name': 'United States', 'url': 'https://tms...</td>\n",
       "      <td>https://tmssl.akamaized.net/images/wappen/tiny...</td>\n",
       "      <td>Washington</td>\n",
       "      <td>Washington Huskies (University of Washington)</td>\n",
       "      <td>https://tmssl.akamaized.net/images/flagge/tiny...</td>\n",
       "      <td>...</td>\n",
       "      <td>MLS</td>\n",
       "      <td>€300k</td>\n",
       "      <td>draft</td>\n",
       "      <td></td>\n",
       "      <td>/jumplist/transfers/spieler/16717/transfer_id/...</td>\n",
       "      <td>2000-02-06</td>\n",
       "      <td>2023-03-01 17:45:05</td>\n",
       "      <td>2000</td>\n",
       "      <td>2</td>\n",
       "      <td>6</td>\n",
       "    </tr>\n",
       "    <tr>\n",
       "      <th>1</th>\n",
       "      <td>https://img.a.transfermarkt.technology/portrai...</td>\n",
       "      <td>Stepan Vachousek</td>\n",
       "      <td>6117</td>\n",
       "      <td>Left Midfield</td>\n",
       "      <td>20</td>\n",
       "      <td>[{'name': 'Czech Republic', 'url': 'https://tm...</td>\n",
       "      <td>https://tmssl.akamaized.net/images/wappen/tiny...</td>\n",
       "      <td>Teplice</td>\n",
       "      <td>FK Teplice</td>\n",
       "      <td>https://tmssl.akamaized.net/images/flagge/tiny...</td>\n",
       "      <td>...</td>\n",
       "      <td></td>\n",
       "      <td>€2.40m</td>\n",
       "      <td>loan transfer</td>\n",
       "      <td></td>\n",
       "      <td>/jumplist/transfers/spieler/6117/transfer_id/3...</td>\n",
       "      <td>2000-02-07</td>\n",
       "      <td>2023-03-01 17:45:07</td>\n",
       "      <td>2000</td>\n",
       "      <td>2</td>\n",
       "      <td>7</td>\n",
       "    </tr>\n",
       "    <tr>\n",
       "      <th>2</th>\n",
       "      <td>https://img.a.transfermarkt.technology/portrai...</td>\n",
       "      <td>Müslüm Atav</td>\n",
       "      <td>30705</td>\n",
       "      <td>Centre-Forward</td>\n",
       "      <td>18</td>\n",
       "      <td>[{'name': 'Austria', 'url': 'https://tmssl.aka...</td>\n",
       "      <td>https://tmssl.akamaized.net/images/wappen/tiny...</td>\n",
       "      <td>SC Göfis</td>\n",
       "      <td>SC Göfis</td>\n",
       "      <td>https://tmssl.akamaized.net/images/flagge/tiny...</td>\n",
       "      <td>...</td>\n",
       "      <td></td>\n",
       "      <td>€375k</td>\n",
       "      <td>?</td>\n",
       "      <td></td>\n",
       "      <td>/jumplist/transfers/spieler/30705/transfer_id/...</td>\n",
       "      <td>2000-04-07</td>\n",
       "      <td>2023-03-01 17:45:09</td>\n",
       "      <td>2000</td>\n",
       "      <td>4</td>\n",
       "      <td>7</td>\n",
       "    </tr>\n",
       "    <tr>\n",
       "      <th>3</th>\n",
       "      <td>https://img.a.transfermarkt.technology/portrai...</td>\n",
       "      <td>Richard Kingson</td>\n",
       "      <td>7125</td>\n",
       "      <td>Goalkeeper</td>\n",
       "      <td>21</td>\n",
       "      <td>[{'name': 'Ghana', 'url': 'https://tmssl.akama...</td>\n",
       "      <td>https://tmssl.akamaized.net/images/wappen/tiny...</td>\n",
       "      <td>Göztepe</td>\n",
       "      <td>Göztepe</td>\n",
       "      <td>https://tmssl.akamaized.net/images/flagge/tiny...</td>\n",
       "      <td>...</td>\n",
       "      <td></td>\n",
       "      <td>€500k</td>\n",
       "      <td>-</td>\n",
       "      <td></td>\n",
       "      <td>/jumplist/transfers/spieler/7125/transfer_id/3...</td>\n",
       "      <td>2000-05-10</td>\n",
       "      <td>2023-03-01 17:45:11</td>\n",
       "      <td>2000</td>\n",
       "      <td>5</td>\n",
       "      <td>10</td>\n",
       "    </tr>\n",
       "    <tr>\n",
       "      <th>4</th>\n",
       "      <td>https://img.a.transfermarkt.technology/portrai...</td>\n",
       "      <td>Roberto Franzese</td>\n",
       "      <td>343160</td>\n",
       "      <td>Central Midfield</td>\n",
       "      <td>19</td>\n",
       "      <td>[{'name': 'Italy', 'url': 'https://tmssl.akama...</td>\n",
       "      <td>https://tmssl.akamaized.net/images/wappen/tiny...</td>\n",
       "      <td>Unknown</td>\n",
       "      <td>Unknown</td>\n",
       "      <td></td>\n",
       "      <td>...</td>\n",
       "      <td></td>\n",
       "      <td>€25k</td>\n",
       "      <td>free transfer</td>\n",
       "      <td></td>\n",
       "      <td>/jumplist/transfers/spieler/343160/transfer_id...</td>\n",
       "      <td>2000-07-01</td>\n",
       "      <td>2023-03-01 17:45:13</td>\n",
       "      <td>2000</td>\n",
       "      <td>7</td>\n",
       "      <td>1</td>\n",
       "    </tr>\n",
       "  </tbody>\n",
       "</table>\n",
       "<p>5 rows × 29 columns</p>\n",
       "</div>"
      ],
      "text/plain": [
       "                                        portrait_url              name  \\\n",
       "0  https://img.a.transfermarkt.technology/portrai...          Wes Hart   \n",
       "1  https://img.a.transfermarkt.technology/portrai...  Stepan Vachousek   \n",
       "2  https://img.a.transfermarkt.technology/portrai...       Müslüm Atav   \n",
       "3  https://img.a.transfermarkt.technology/portrai...   Richard Kingson   \n",
       "4  https://img.a.transfermarkt.technology/portrai...  Roberto Franzese   \n",
       "\n",
       "  player_id          position age  \\\n",
       "0     16717        Right-Back  22   \n",
       "1      6117     Left Midfield  20   \n",
       "2     30705    Centre-Forward  18   \n",
       "3      7125        Goalkeeper  21   \n",
       "4    343160  Central Midfield  19   \n",
       "\n",
       "                                       nationalities  \\\n",
       "0  [{'name': 'United States', 'url': 'https://tms...   \n",
       "1  [{'name': 'Czech Republic', 'url': 'https://tm...   \n",
       "2  [{'name': 'Austria', 'url': 'https://tmssl.aka...   \n",
       "3  [{'name': 'Ghana', 'url': 'https://tmssl.akama...   \n",
       "4  [{'name': 'Italy', 'url': 'https://tmssl.akama...   \n",
       "\n",
       "                                       left_club_url left_club_name  \\\n",
       "0  https://tmssl.akamaized.net/images/wappen/tiny...     Washington   \n",
       "1  https://tmssl.akamaized.net/images/wappen/tiny...        Teplice   \n",
       "2  https://tmssl.akamaized.net/images/wappen/tiny...       SC Göfis   \n",
       "3  https://tmssl.akamaized.net/images/wappen/tiny...        Göztepe   \n",
       "4  https://tmssl.akamaized.net/images/wappen/tiny...        Unknown   \n",
       "\n",
       "                              left_club_name_alt  \\\n",
       "0  Washington Huskies (University of Washington)   \n",
       "1                                     FK Teplice   \n",
       "2                                       SC Göfis   \n",
       "3                                        Göztepe   \n",
       "4                                        Unknown   \n",
       "\n",
       "                        left_club_league_country_url  ...  \\\n",
       "0  https://tmssl.akamaized.net/images/flagge/tiny...  ...   \n",
       "1  https://tmssl.akamaized.net/images/flagge/tiny...  ...   \n",
       "2  https://tmssl.akamaized.net/images/flagge/tiny...  ...   \n",
       "3  https://tmssl.akamaized.net/images/flagge/tiny...  ...   \n",
       "4                                                     ...   \n",
       "\n",
       "  join_club_league_name_alt market_value            fee loan_fee  \\\n",
       "0                       MLS        €300k          draft            \n",
       "1                                 €2.40m  loan transfer            \n",
       "2                                  €375k              ?            \n",
       "3                                  €500k              -            \n",
       "4                                   €25k  free transfer            \n",
       "\n",
       "                                        transfer_url transfer_date  \\\n",
       "0  /jumplist/transfers/spieler/16717/transfer_id/...    2000-02-06   \n",
       "1  /jumplist/transfers/spieler/6117/transfer_id/3...    2000-02-07   \n",
       "2  /jumplist/transfers/spieler/30705/transfer_id/...    2000-04-07   \n",
       "3  /jumplist/transfers/spieler/7125/transfer_id/3...    2000-05-10   \n",
       "4  /jumplist/transfers/spieler/343160/transfer_id...    2000-07-01   \n",
       "\n",
       "           ingested_at     y  m   d  \n",
       "0  2023-03-01 17:45:05  2000  2   6  \n",
       "1  2023-03-01 17:45:07  2000  2   7  \n",
       "2  2023-03-01 17:45:09  2000  4   7  \n",
       "3  2023-03-01 17:45:11  2000  5  10  \n",
       "4  2023-03-01 17:45:13  2000  7   1  \n",
       "\n",
       "[5 rows x 29 columns]"
      ]
     },
     "execution_count": 10,
     "metadata": {},
     "output_type": "execute_result"
    }
   ],
   "source": [
    "df.head(5)"
   ]
  },
  {
   "cell_type": "code",
   "execution_count": 11,
   "id": "6440cdf3-bc5e-454a-b1d2-530d3bf110ff",
   "metadata": {},
   "outputs": [
    {
     "data": {
      "text/plain": [
       "(859, 29)"
      ]
     },
     "execution_count": 11,
     "metadata": {},
     "output_type": "execute_result"
    }
   ],
   "source": [
    "df.shape"
   ]
  },
  {
   "cell_type": "code",
   "execution_count": 12,
   "id": "6d30d6d0-bc97-497f-a725-2328f4e941e4",
   "metadata": {
    "tags": []
   },
   "outputs": [],
   "source": [
    "present_transfers_datetime = df['transfer_date'].drop_duplicates().to_list()"
   ]
  },
  {
   "cell_type": "code",
   "execution_count": 14,
   "id": "d8582f6a-be1d-4313-ac9d-b6fce8150b4b",
   "metadata": {
    "tags": []
   },
   "outputs": [
    {
     "data": {
      "text/plain": [
       "208"
      ]
     },
     "execution_count": 14,
     "metadata": {},
     "output_type": "execute_result"
    }
   ],
   "source": [
    "len(present_transfers_datetime)"
   ]
  },
  {
   "cell_type": "code",
   "execution_count": 13,
   "id": "f844069b-b1f0-4c2d-9021-669e94709479",
   "metadata": {
    "tags": []
   },
   "outputs": [],
   "source": [
    "with open('result.txt', 'w') as f:\n",
    "    f.write(\"\\n\".join(present_transfers_datetime))"
   ]
  },
  {
   "cell_type": "code",
   "execution_count": null,
   "id": "8d39ba19-6120-47ee-979d-7743c4379aed",
   "metadata": {},
   "outputs": [],
   "source": []
  }
 ],
 "metadata": {
  "kernelspec": {
   "display_name": "Python 3 (ipykernel)",
   "language": "python",
   "name": "python3"
  },
  "language_info": {
   "codemirror_mode": {
    "name": "ipython",
    "version": 3
   },
   "file_extension": ".py",
   "mimetype": "text/x-python",
   "name": "python",
   "nbconvert_exporter": "python",
   "pygments_lexer": "ipython3",
   "version": "3.10.9"
  },
  "vscode": {
   "interpreter": {
    "hash": "9b06527ab9053935e579298447bb9c12ebfbbe7b9ffb728340fa3c26c4fbd2e5"
   }
  }
 },
 "nbformat": 4,
 "nbformat_minor": 5
}
