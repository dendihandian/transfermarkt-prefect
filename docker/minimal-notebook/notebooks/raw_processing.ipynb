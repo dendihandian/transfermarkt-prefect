{
 "cells": [
  {
   "cell_type": "markdown",
   "id": "8b021a3e-fdc6-4bf8-b2f8-f61e6090bc8b",
   "metadata": {},
   "source": [
    "# Raw Processing"
   ]
  },
  {
   "cell_type": "markdown",
   "id": "53a88164-99e7-47eb-8033-af80b91c56e1",
   "metadata": {
    "tags": []
   },
   "source": [
    "## Preparation\n"
   ]
  },
  {
   "cell_type": "code",
   "execution_count": 15,
   "id": "bfb74359-a997-4fee-a694-0d34fc9b7612",
   "metadata": {
    "tags": []
   },
   "outputs": [],
   "source": [
    "import pandas as pd\n",
    "from random import choice\n",
    "\n",
    "pd.set_option('display.max_columns', None)"
   ]
  },
  {
   "cell_type": "markdown",
   "id": "0fa28df9-2ee4-4549-a66c-f5f61718281f",
   "metadata": {},
   "source": [
    "## Data Information & Description"
   ]
  },
  {
   "cell_type": "code",
   "execution_count": 22,
   "id": "23adbf0a-ad93-4d4c-b845-6da46e4e4fc2",
   "metadata": {
    "tags": []
   },
   "outputs": [
    {
     "data": {
      "text/html": [
       "<div>\n",
       "<style scoped>\n",
       "    .dataframe tbody tr th:only-of-type {\n",
       "        vertical-align: middle;\n",
       "    }\n",
       "\n",
       "    .dataframe tbody tr th {\n",
       "        vertical-align: top;\n",
       "    }\n",
       "\n",
       "    .dataframe thead th {\n",
       "        text-align: right;\n",
       "    }\n",
       "</style>\n",
       "<table border=\"1\" class=\"dataframe\">\n",
       "  <thead>\n",
       "    <tr style=\"text-align: right;\">\n",
       "      <th></th>\n",
       "      <th>portrait_url</th>\n",
       "      <th>name</th>\n",
       "      <th>player_id</th>\n",
       "      <th>position</th>\n",
       "      <th>age</th>\n",
       "      <th>nationalities</th>\n",
       "      <th>left_club_url</th>\n",
       "      <th>left_club_name</th>\n",
       "      <th>left_club_name_alt</th>\n",
       "      <th>left_club_league_country_url</th>\n",
       "      <th>left_club_league_country_name</th>\n",
       "      <th>left_club_league_name</th>\n",
       "      <th>left_club_league_name_alt</th>\n",
       "      <th>join_club_url</th>\n",
       "      <th>join_club_name</th>\n",
       "      <th>join_club_name_alt</th>\n",
       "      <th>join_club_league_country_url</th>\n",
       "      <th>join_club_league_country_name</th>\n",
       "      <th>join_club_league_name</th>\n",
       "      <th>join_club_league_name_alt</th>\n",
       "      <th>market_value</th>\n",
       "      <th>fee</th>\n",
       "      <th>loan_fee</th>\n",
       "      <th>transfer_url</th>\n",
       "      <th>transfer_date</th>\n",
       "      <th>ingested_at</th>\n",
       "      <th>m</th>\n",
       "      <th>d</th>\n",
       "      <th>y</th>\n",
       "    </tr>\n",
       "  </thead>\n",
       "  <tbody>\n",
       "    <tr>\n",
       "      <th>17541</th>\n",
       "      <td>https://img.a.transfermarkt.technology/portrai...</td>\n",
       "      <td>Heitor</td>\n",
       "      <td>26023</td>\n",
       "      <td>Right Winger</td>\n",
       "      <td>28</td>\n",
       "      <td>[{\"name\": \"Portugal\", \"url\": \"https://tmssl.ak...</td>\n",
       "      <td>https://tmssl.akamaized.net/images/wappen/tiny...</td>\n",
       "      <td>Trofense</td>\n",
       "      <td>CD Trofense</td>\n",
       "      <td>https://tmssl.akamaized.net/images/flagge/tiny...</td>\n",
       "      <td>Portugal</td>\n",
       "      <td>Liga Sabseg</td>\n",
       "      <td>Liga Sabseg</td>\n",
       "      <td>https://tmssl.akamaized.net/images/wappen/tiny...</td>\n",
       "      <td>Famalicão</td>\n",
       "      <td>FC Famalicão</td>\n",
       "      <td>https://tmssl.akamaized.net/images/flagge/very...</td>\n",
       "      <td>Portugal</td>\n",
       "      <td></td>\n",
       "      <td></td>\n",
       "      <td>€100k</td>\n",
       "      <td>?</td>\n",
       "      <td></td>\n",
       "      <td>/jumplist/transfers/spieler/26023/transfer_id/...</td>\n",
       "      <td>2007-01-01</td>\n",
       "      <td>2023-03-02 16:04:11</td>\n",
       "      <td>1</td>\n",
       "      <td>1</td>\n",
       "      <td>2007</td>\n",
       "    </tr>\n",
       "    <tr>\n",
       "      <th>27243</th>\n",
       "      <td>https://img.a.transfermarkt.technology/portrai...</td>\n",
       "      <td>Daniel Gramann</td>\n",
       "      <td>25784</td>\n",
       "      <td>Centre-Back</td>\n",
       "      <td>20</td>\n",
       "      <td>[{\"name\": \"Austria\", \"url\": \"https://tmssl.aka...</td>\n",
       "      <td>https://tmssl.akamaized.net/images/wappen/tiny...</td>\n",
       "      <td>TSV Hartberg</td>\n",
       "      <td>TSV Hartberg</td>\n",
       "      <td>https://tmssl.akamaized.net/images/flagge/tiny...</td>\n",
       "      <td>Austria</td>\n",
       "      <td>Regional League Central</td>\n",
       "      <td>Regional League Central</td>\n",
       "      <td>https://tmssl.akamaized.net/images/wappen/tiny...</td>\n",
       "      <td>SCR Altach</td>\n",
       "      <td>SCR Altach</td>\n",
       "      <td>https://tmssl.akamaized.net/images/flagge/very...</td>\n",
       "      <td>Austria</td>\n",
       "      <td>Bundesliga</td>\n",
       "      <td>Bundesliga</td>\n",
       "      <td>€200k</td>\n",
       "      <td>€8k</td>\n",
       "      <td></td>\n",
       "      <td>/jumplist/transfers/spieler/25784/transfer_id/...</td>\n",
       "      <td>2007-07-27</td>\n",
       "      <td>2023-03-03 11:54:02</td>\n",
       "      <td>7</td>\n",
       "      <td>27</td>\n",
       "      <td>2007</td>\n",
       "    </tr>\n",
       "  </tbody>\n",
       "</table>\n",
       "</div>"
      ],
      "text/plain": [
       "                                            portrait_url            name  \\\n",
       "17541  https://img.a.transfermarkt.technology/portrai...          Heitor   \n",
       "27243  https://img.a.transfermarkt.technology/portrai...  Daniel Gramann   \n",
       "\n",
       "      player_id      position age  \\\n",
       "17541     26023  Right Winger  28   \n",
       "27243     25784   Centre-Back  20   \n",
       "\n",
       "                                           nationalities  \\\n",
       "17541  [{\"name\": \"Portugal\", \"url\": \"https://tmssl.ak...   \n",
       "27243  [{\"name\": \"Austria\", \"url\": \"https://tmssl.aka...   \n",
       "\n",
       "                                           left_club_url left_club_name  \\\n",
       "17541  https://tmssl.akamaized.net/images/wappen/tiny...       Trofense   \n",
       "27243  https://tmssl.akamaized.net/images/wappen/tiny...   TSV Hartberg   \n",
       "\n",
       "      left_club_name_alt                       left_club_league_country_url  \\\n",
       "17541        CD Trofense  https://tmssl.akamaized.net/images/flagge/tiny...   \n",
       "27243       TSV Hartberg  https://tmssl.akamaized.net/images/flagge/tiny...   \n",
       "\n",
       "      left_club_league_country_name    left_club_league_name  \\\n",
       "17541                      Portugal              Liga Sabseg   \n",
       "27243                       Austria  Regional League Central   \n",
       "\n",
       "      left_club_league_name_alt  \\\n",
       "17541               Liga Sabseg   \n",
       "27243   Regional League Central   \n",
       "\n",
       "                                           join_club_url join_club_name  \\\n",
       "17541  https://tmssl.akamaized.net/images/wappen/tiny...      Famalicão   \n",
       "27243  https://tmssl.akamaized.net/images/wappen/tiny...     SCR Altach   \n",
       "\n",
       "      join_club_name_alt                       join_club_league_country_url  \\\n",
       "17541       FC Famalicão  https://tmssl.akamaized.net/images/flagge/very...   \n",
       "27243         SCR Altach  https://tmssl.akamaized.net/images/flagge/very...   \n",
       "\n",
       "      join_club_league_country_name join_club_league_name  \\\n",
       "17541                      Portugal                         \n",
       "27243                       Austria            Bundesliga   \n",
       "\n",
       "      join_club_league_name_alt market_value  fee loan_fee  \\\n",
       "17541                                  €100k    ?            \n",
       "27243                Bundesliga        €200k  €8k            \n",
       "\n",
       "                                            transfer_url transfer_date  \\\n",
       "17541  /jumplist/transfers/spieler/26023/transfer_id/...    2007-01-01   \n",
       "27243  /jumplist/transfers/spieler/25784/transfer_id/...    2007-07-27   \n",
       "\n",
       "               ingested_at  m   d     y  \n",
       "17541  2023-03-02 16:04:11  1   1  2007  \n",
       "27243  2023-03-03 11:54:02  7  27  2007  "
      ]
     },
     "execution_count": 22,
     "metadata": {},
     "output_type": "execute_result"
    }
   ],
   "source": [
    "# sample from a random year\n",
    "year = choice([i for i in range(2000, 2010)])\n",
    "df = pd.read_parquet(f'../data/raw/transfers_by_day/y={year}/', engine='pyarrow')\n",
    "df['y'] = str(year)\n",
    "df.sample(2)"
   ]
  },
  {
   "cell_type": "code",
   "execution_count": 21,
   "id": "01baaafa-e3bd-4db2-974d-e1364dbdc6cb",
   "metadata": {
    "tags": []
   },
   "outputs": [
    {
     "name": "stdout",
     "output_type": "stream",
     "text": [
      "<class 'pandas.core.frame.DataFrame'>\n",
      "RangeIndex: 10254 entries, 0 to 10253\n",
      "Data columns (total 29 columns):\n",
      " #   Column                         Non-Null Count  Dtype   \n",
      "---  ------                         --------------  -----   \n",
      " 0   portrait_url                   10254 non-null  object  \n",
      " 1   name                           10254 non-null  object  \n",
      " 2   player_id                      10254 non-null  object  \n",
      " 3   position                       10254 non-null  object  \n",
      " 4   age                            10254 non-null  object  \n",
      " 5   nationalities                  10254 non-null  object  \n",
      " 6   left_club_url                  10254 non-null  object  \n",
      " 7   left_club_name                 10254 non-null  object  \n",
      " 8   left_club_name_alt             10254 non-null  object  \n",
      " 9   left_club_league_country_url   10254 non-null  object  \n",
      " 10  left_club_league_country_name  10254 non-null  object  \n",
      " 11  left_club_league_name          10254 non-null  object  \n",
      " 12  left_club_league_name_alt      10254 non-null  object  \n",
      " 13  join_club_url                  10254 non-null  object  \n",
      " 14  join_club_name                 10254 non-null  object  \n",
      " 15  join_club_name_alt             10254 non-null  object  \n",
      " 16  join_club_league_country_url   10254 non-null  object  \n",
      " 17  join_club_league_country_name  10254 non-null  object  \n",
      " 18  join_club_league_name          10254 non-null  object  \n",
      " 19  join_club_league_name_alt      10254 non-null  object  \n",
      " 20  market_value                   10254 non-null  object  \n",
      " 21  fee                            10254 non-null  object  \n",
      " 22  loan_fee                       10254 non-null  object  \n",
      " 23  transfer_url                   10254 non-null  object  \n",
      " 24  transfer_date                  10254 non-null  object  \n",
      " 25  ingested_at                    10254 non-null  object  \n",
      " 26  m                              10254 non-null  category\n",
      " 27  d                              10254 non-null  category\n",
      " 28  y                              10254 non-null  object  \n",
      "dtypes: category(2), object(27)\n",
      "memory usage: 2.1+ MB\n"
     ]
    }
   ],
   "source": [
    "df.info()"
   ]
  },
  {
   "cell_type": "markdown",
   "id": "2904266b-2fa5-4d62-bf53-6469a9c7623f",
   "metadata": {
    "tags": []
   },
   "source": [
    "## Create Clean Raw Data"
   ]
  },
  {
   "cell_type": "markdown",
   "id": "f116c8b6-4fab-4e29-8bd9-c9a437b76131",
   "metadata": {},
   "source": [
    "The clean raw data processing is for removing duplicates and merge splitted parquet files of a transfer date (y/m/d)"
   ]
  },
  {
   "cell_type": "code",
   "execution_count": 34,
   "id": "c6f1d36f-c276-4248-bd5e-79f859ffda28",
   "metadata": {
    "tags": []
   },
   "outputs": [
    {
     "name": "stdout",
     "output_type": "stream",
     "text": [
      "total_rows: 165\n",
      "total_non_duplicated_rows: 165\n",
      "total_duplicated_rows: 0\n"
     ]
    }
   ],
   "source": [
    "total_rows = 0\n",
    "total_non_duplicated_rows = 0\n",
    "total_duplicated_rows = 0\n",
    "\n",
    "for year in range(2000, 2004):\n",
    "    df = pd.read_parquet(f'../data/raw/transfers_by_day/y={year}/', engine='pyarrow')\n",
    "    df['y'] = str(year)\n",
    "    duplicated = df.duplicated(subset=['player_id', 'transfer_date']).value_counts()\n",
    "    total_rows = total_rows + (df.shape[0] if len(df.shape) >= 1 else 0)\n",
    "    total_non_duplicated_rows = total_non_duplicated_rows + (duplicated[0] if len(duplicated) >= 1 else 0)\n",
    "    total_duplicated_rows = total_duplicated_rows + ((duplicated[1] if len(duplicated) >= 2 else 0))\n",
    "    \n",
    "    # write to a new dataset\n",
    "    df.to_parquet('../data/raw/transfers_by_day_clean2/', partition_cols=['y', 'm', 'd'])\n",
    "    \n",
    "print(f\"total_rows: {total_rows}\")\n",
    "print(f\"total_non_duplicated_rows: {total_non_duplicated_rows}\")\n",
    "print(f\"total_duplicated_rows: {total_duplicated_rows}\")\n",
    "    "
   ]
  }
 ],
 "metadata": {
  "kernelspec": {
   "display_name": "Python 3 (ipykernel)",
   "language": "python",
   "name": "python3"
  },
  "language_info": {
   "codemirror_mode": {
    "name": "ipython",
    "version": 3
   },
   "file_extension": ".py",
   "mimetype": "text/x-python",
   "name": "python",
   "nbconvert_exporter": "python",
   "pygments_lexer": "ipython3",
   "version": "3.10.9"
  }
 },
 "nbformat": 4,
 "nbformat_minor": 5
}
