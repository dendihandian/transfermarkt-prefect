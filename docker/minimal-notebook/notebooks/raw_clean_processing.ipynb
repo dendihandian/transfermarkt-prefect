{
 "cells": [
  {
   "cell_type": "markdown",
   "id": "8b021a3e-fdc6-4bf8-b2f8-f61e6090bc8b",
   "metadata": {},
   "source": [
    "# Raw Processing"
   ]
  },
  {
   "cell_type": "markdown",
   "id": "53a88164-99e7-47eb-8033-af80b91c56e1",
   "metadata": {
    "tags": []
   },
   "source": [
    "## Preparation\n"
   ]
  },
  {
   "cell_type": "code",
   "execution_count": 1,
   "id": "bfb74359-a997-4fee-a694-0d34fc9b7612",
   "metadata": {
    "tags": []
   },
   "outputs": [],
   "source": [
    "import pandas as pd\n",
    "from random import choice\n",
    "from datetime import datetime\n",
    "\n",
    "pd.set_option('display.max_columns', None)"
   ]
  },
  {
   "cell_type": "markdown",
   "id": "0fa28df9-2ee4-4549-a66c-f5f61718281f",
   "metadata": {},
   "source": [
    "## Data Information & Description"
   ]
  },
  {
   "cell_type": "code",
   "execution_count": 2,
   "id": "23adbf0a-ad93-4d4c-b845-6da46e4e4fc2",
   "metadata": {
    "tags": []
   },
   "outputs": [
    {
     "data": {
      "text/html": [
       "<div>\n",
       "<style scoped>\n",
       "    .dataframe tbody tr th:only-of-type {\n",
       "        vertical-align: middle;\n",
       "    }\n",
       "\n",
       "    .dataframe tbody tr th {\n",
       "        vertical-align: top;\n",
       "    }\n",
       "\n",
       "    .dataframe thead th {\n",
       "        text-align: right;\n",
       "    }\n",
       "</style>\n",
       "<table border=\"1\" class=\"dataframe\">\n",
       "  <thead>\n",
       "    <tr style=\"text-align: right;\">\n",
       "      <th></th>\n",
       "      <th>portrait_url</th>\n",
       "      <th>name</th>\n",
       "      <th>player_id</th>\n",
       "      <th>position</th>\n",
       "      <th>age</th>\n",
       "      <th>nationalities</th>\n",
       "      <th>left_club_url</th>\n",
       "      <th>left_club_name</th>\n",
       "      <th>left_club_name_alt</th>\n",
       "      <th>left_club_league_country_url</th>\n",
       "      <th>left_club_league_country_name</th>\n",
       "      <th>left_club_league_name</th>\n",
       "      <th>left_club_league_name_alt</th>\n",
       "      <th>join_club_url</th>\n",
       "      <th>join_club_name</th>\n",
       "      <th>join_club_name_alt</th>\n",
       "      <th>join_club_league_country_url</th>\n",
       "      <th>join_club_league_country_name</th>\n",
       "      <th>join_club_league_name</th>\n",
       "      <th>join_club_league_name_alt</th>\n",
       "      <th>market_value</th>\n",
       "      <th>fee</th>\n",
       "      <th>loan_fee</th>\n",
       "      <th>transfer_url</th>\n",
       "      <th>transfer_date</th>\n",
       "      <th>ingested_at</th>\n",
       "      <th>m</th>\n",
       "      <th>d</th>\n",
       "      <th>y</th>\n",
       "    </tr>\n",
       "  </thead>\n",
       "  <tbody>\n",
       "    <tr>\n",
       "      <th>60883</th>\n",
       "      <td>https://img.a.transfermarkt.technology/portrai...</td>\n",
       "      <td>Alexis</td>\n",
       "      <td>86295</td>\n",
       "      <td>Centre-Forward</td>\n",
       "      <td>26</td>\n",
       "      <td>[{\"name\": \"Portugal\", \"url\": \"https://tmssl.ak...</td>\n",
       "      <td>https://tmssl.akamaized.net/images/wappen/tiny...</td>\n",
       "      <td>Beira-Mar</td>\n",
       "      <td>SC Beira-Mar</td>\n",
       "      <td>https://tmssl.akamaized.net/images/flagge/tiny...</td>\n",
       "      <td>Portugal</td>\n",
       "      <td>Liga Sabseg</td>\n",
       "      <td>Liga Sabseg</td>\n",
       "      <td>https://tmssl.akamaized.net/images/wappen/tiny...</td>\n",
       "      <td>Oliveira Bairro</td>\n",
       "      <td>Oliveira do Bairro SC</td>\n",
       "      <td>https://tmssl.akamaized.net/images/flagge/very...</td>\n",
       "      <td>Portugal</td>\n",
       "      <td></td>\n",
       "      <td></td>\n",
       "      <td>€150k</td>\n",
       "      <td>loan transfer</td>\n",
       "      <td></td>\n",
       "      <td>/jumplist/transfers/spieler/86295/transfer_id/...</td>\n",
       "      <td>2009-07-01</td>\n",
       "      <td>2023-03-05 01:18:00</td>\n",
       "      <td>7</td>\n",
       "      <td>1</td>\n",
       "      <td>2009</td>\n",
       "    </tr>\n",
       "    <tr>\n",
       "      <th>52433</th>\n",
       "      <td>https://img.a.transfermarkt.technology/portrai...</td>\n",
       "      <td>Fabio Roselli</td>\n",
       "      <td>29567</td>\n",
       "      <td>Defensive Midfield</td>\n",
       "      <td>25</td>\n",
       "      <td>[{\"name\": \"Italy\", \"url\": \"https://tmssl.akama...</td>\n",
       "      <td>https://tmssl.akamaized.net/images/wappen/tiny...</td>\n",
       "      <td>Legnano</td>\n",
       "      <td>Legnano AC</td>\n",
       "      <td>https://tmssl.akamaized.net/images/flagge/tiny...</td>\n",
       "      <td>Italy</td>\n",
       "      <td>Serie C - A</td>\n",
       "      <td>Serie C - A</td>\n",
       "      <td>https://tmssl.akamaized.net/images/wappen/tiny...</td>\n",
       "      <td>Ravenna</td>\n",
       "      <td>Ravenna FC</td>\n",
       "      <td>https://tmssl.akamaized.net/images/flagge/very...</td>\n",
       "      <td>Italy</td>\n",
       "      <td>Serie C - A</td>\n",
       "      <td>Serie C - A</td>\n",
       "      <td>€300k</td>\n",
       "      <td>free transfer</td>\n",
       "      <td></td>\n",
       "      <td>/jumplist/transfers/spieler/29567/transfer_id/...</td>\n",
       "      <td>2009-01-01</td>\n",
       "      <td>2023-03-03 20:12:54</td>\n",
       "      <td>1</td>\n",
       "      <td>1</td>\n",
       "      <td>2009</td>\n",
       "    </tr>\n",
       "  </tbody>\n",
       "</table>\n",
       "</div>"
      ],
      "text/plain": [
       "                                            portrait_url           name  \\\n",
       "60883  https://img.a.transfermarkt.technology/portrai...         Alexis   \n",
       "52433  https://img.a.transfermarkt.technology/portrai...  Fabio Roselli   \n",
       "\n",
       "      player_id            position age  \\\n",
       "60883     86295      Centre-Forward  26   \n",
       "52433     29567  Defensive Midfield  25   \n",
       "\n",
       "                                           nationalities  \\\n",
       "60883  [{\"name\": \"Portugal\", \"url\": \"https://tmssl.ak...   \n",
       "52433  [{\"name\": \"Italy\", \"url\": \"https://tmssl.akama...   \n",
       "\n",
       "                                           left_club_url left_club_name  \\\n",
       "60883  https://tmssl.akamaized.net/images/wappen/tiny...      Beira-Mar   \n",
       "52433  https://tmssl.akamaized.net/images/wappen/tiny...        Legnano   \n",
       "\n",
       "      left_club_name_alt                       left_club_league_country_url  \\\n",
       "60883       SC Beira-Mar  https://tmssl.akamaized.net/images/flagge/tiny...   \n",
       "52433         Legnano AC  https://tmssl.akamaized.net/images/flagge/tiny...   \n",
       "\n",
       "      left_club_league_country_name left_club_league_name  \\\n",
       "60883                      Portugal           Liga Sabseg   \n",
       "52433                         Italy           Serie C - A   \n",
       "\n",
       "      left_club_league_name_alt  \\\n",
       "60883               Liga Sabseg   \n",
       "52433               Serie C - A   \n",
       "\n",
       "                                           join_club_url   join_club_name  \\\n",
       "60883  https://tmssl.akamaized.net/images/wappen/tiny...  Oliveira Bairro   \n",
       "52433  https://tmssl.akamaized.net/images/wappen/tiny...          Ravenna   \n",
       "\n",
       "          join_club_name_alt  \\\n",
       "60883  Oliveira do Bairro SC   \n",
       "52433             Ravenna FC   \n",
       "\n",
       "                            join_club_league_country_url  \\\n",
       "60883  https://tmssl.akamaized.net/images/flagge/very...   \n",
       "52433  https://tmssl.akamaized.net/images/flagge/very...   \n",
       "\n",
       "      join_club_league_country_name join_club_league_name  \\\n",
       "60883                      Portugal                         \n",
       "52433                         Italy           Serie C - A   \n",
       "\n",
       "      join_club_league_name_alt market_value            fee loan_fee  \\\n",
       "60883                                  €150k  loan transfer            \n",
       "52433               Serie C - A        €300k  free transfer            \n",
       "\n",
       "                                            transfer_url transfer_date  \\\n",
       "60883  /jumplist/transfers/spieler/86295/transfer_id/...    2009-07-01   \n",
       "52433  /jumplist/transfers/spieler/29567/transfer_id/...    2009-01-01   \n",
       "\n",
       "               ingested_at  m  d     y  \n",
       "60883  2023-03-05 01:18:00  7  1  2009  \n",
       "52433  2023-03-03 20:12:54  1  1  2009  "
      ]
     },
     "execution_count": 2,
     "metadata": {},
     "output_type": "execute_result"
    }
   ],
   "source": [
    "# sample from a random year\n",
    "year = choice([i for i in range(2000, 2010)])\n",
    "df = pd.read_parquet(f'../data/raw/transfers_by_day/y={year}/', engine='pyarrow')\n",
    "df['y'] = str(year)\n",
    "df.sample(2)"
   ]
  },
  {
   "cell_type": "code",
   "execution_count": 3,
   "id": "01baaafa-e3bd-4db2-974d-e1364dbdc6cb",
   "metadata": {
    "tags": []
   },
   "outputs": [
    {
     "name": "stdout",
     "output_type": "stream",
     "text": [
      "<class 'pandas.core.frame.DataFrame'>\n",
      "Int64Index: 23708 entries, 51216 to 74904\n",
      "Data columns (total 29 columns):\n",
      " #   Column                         Non-Null Count  Dtype   \n",
      "---  ------                         --------------  -----   \n",
      " 0   portrait_url                   23708 non-null  object  \n",
      " 1   name                           23708 non-null  object  \n",
      " 2   player_id                      23708 non-null  object  \n",
      " 3   position                       23708 non-null  object  \n",
      " 4   age                            23708 non-null  object  \n",
      " 5   nationalities                  23708 non-null  object  \n",
      " 6   left_club_url                  23708 non-null  object  \n",
      " 7   left_club_name                 23708 non-null  object  \n",
      " 8   left_club_name_alt             23708 non-null  object  \n",
      " 9   left_club_league_country_url   23708 non-null  object  \n",
      " 10  left_club_league_country_name  23708 non-null  object  \n",
      " 11  left_club_league_name          23708 non-null  object  \n",
      " 12  left_club_league_name_alt      23708 non-null  object  \n",
      " 13  join_club_url                  23708 non-null  object  \n",
      " 14  join_club_name                 23708 non-null  object  \n",
      " 15  join_club_name_alt             23708 non-null  object  \n",
      " 16  join_club_league_country_url   23708 non-null  object  \n",
      " 17  join_club_league_country_name  23708 non-null  object  \n",
      " 18  join_club_league_name          23708 non-null  object  \n",
      " 19  join_club_league_name_alt      23708 non-null  object  \n",
      " 20  market_value                   23708 non-null  object  \n",
      " 21  fee                            23708 non-null  object  \n",
      " 22  loan_fee                       23708 non-null  object  \n",
      " 23  transfer_url                   23708 non-null  object  \n",
      " 24  transfer_date                  23708 non-null  object  \n",
      " 25  ingested_at                    23708 non-null  object  \n",
      " 26  m                              23708 non-null  category\n",
      " 27  d                              23708 non-null  category\n",
      " 28  y                              23708 non-null  object  \n",
      "dtypes: category(2), object(27)\n",
      "memory usage: 5.1+ MB\n"
     ]
    }
   ],
   "source": [
    "df.info()"
   ]
  },
  {
   "cell_type": "markdown",
   "id": "2904266b-2fa5-4d62-bf53-6469a9c7623f",
   "metadata": {
    "tags": []
   },
   "source": [
    "## Create Clean Raw Data"
   ]
  },
  {
   "cell_type": "markdown",
   "id": "f116c8b6-4fab-4e29-8bd9-c9a437b76131",
   "metadata": {},
   "source": [
    "The clean raw data processing is for removing duplicates and merge splitted parquet files of a transfer date (y/m/d)"
   ]
  },
  {
   "cell_type": "code",
   "execution_count": 5,
   "id": "c6f1d36f-c276-4248-bd5e-79f859ffda28",
   "metadata": {
    "tags": []
   },
   "outputs": [
    {
     "name": "stdout",
     "output_type": "stream",
     "text": [
      "total_rows: 308393\n",
      "total_non_duplicated_rows: 307367\n",
      "total_duplicated_rows: 1026\n"
     ]
    }
   ],
   "source": [
    "total_rows = 0\n",
    "total_non_duplicated_rows = 0\n",
    "total_duplicated_rows = 0\n",
    "ymdhms = datetime.now().strftime('%Y%m%d%H%M%S')\n",
    "\n",
    "for year in range(2000, 2016):\n",
    "    df = pd.read_parquet(f'../data/raw/transfers_by_day/y={year}/', engine='pyarrow')\n",
    "    df['y'] = str(year)\n",
    "    duplicated = df.duplicated(subset=['player_id', 'transfer_date']).value_counts()\n",
    "    total_rows = total_rows + (df.shape[0] if len(df.shape) >= 1 else 0)\n",
    "    total_non_duplicated_rows = total_non_duplicated_rows + (duplicated[0] if len(duplicated) >= 1 else 0)\n",
    "    total_duplicated_rows = total_duplicated_rows + ((duplicated[1] if len(duplicated) >= 2 else 0))\n",
    "    \n",
    "    # remove duplicated\n",
    "    df.drop_duplicates(subset=['player_id', 'transfer_date'], inplace=True)\n",
    "    \n",
    "    # write to a new dataset\n",
    "    df.to_parquet(f'../data/raw/transfers_by_day_clean_{ymdhms}/', partition_cols=['y', 'm', 'd'])\n",
    "    \n",
    "print(f\"total_rows: {total_rows}\")\n",
    "print(f\"total_non_duplicated_rows: {total_non_duplicated_rows}\")\n",
    "print(f\"total_duplicated_rows: {total_duplicated_rows}\")\n",
    "    "
   ]
  },
  {
   "cell_type": "code",
   "execution_count": null,
   "id": "94313518-39d2-43f6-980b-ca48211b53fa",
   "metadata": {},
   "outputs": [],
   "source": []
  }
 ],
 "metadata": {
  "kernelspec": {
   "display_name": "Python 3 (ipykernel)",
   "language": "python",
   "name": "python3"
  },
  "language_info": {
   "codemirror_mode": {
    "name": "ipython",
    "version": 3
   },
   "file_extension": ".py",
   "mimetype": "text/x-python",
   "name": "python",
   "nbconvert_exporter": "python",
   "pygments_lexer": "ipython3",
   "version": "3.10.9"
  }
 },
 "nbformat": 4,
 "nbformat_minor": 5
}
